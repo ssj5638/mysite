{
  "nbformat": 4,
  "nbformat_minor": 0,
  "metadata": {
    "colab": {
      "name": "ex_0101.ipynb",
      "version": "0.3.2",
      "provenance": [],
      "include_colab_link": true
    },
    "kernelspec": {
      "display_name": "Python 3",
      "language": "python",
      "name": "python3"
    }
  },
  "cells": [
    {
      "cell_type": "markdown",
      "metadata": {
        "id": "view-in-github",
        "colab_type": "text"
      },
      "source": [
        "[View in Colaboratory](https://colab.research.google.com/github/ssj5638/mysite/blob/master/ex_0101.ipynb)"
      ]
    },
    {
      "metadata": {
        "id": "-jEqaIJZbf4A",
        "colab_type": "text"
      },
      "cell_type": "markdown",
      "source": [
        "# 타이틀 1\n",
        "## 타이틀 2\n",
        "### 타이틀 3\n",
        "#### 타이틀 4\n",
        "\n",
        "[구글]<www.google.com>\n",
        "\n",
        "*이탤릭 폰트*\n",
        "\n",
        "**볼드 폰트**\n",
        "\n",
        "LaTex 수식 $Area = \\pi r^2$\n"
      ]
    },
    {
      "metadata": {
        "id": "YgAz67mFbf4C",
        "colab_type": "code",
        "colab": {}
      },
      "cell_type": "code",
      "source": [
        "print('Hello World!')"
      ],
      "execution_count": 0,
      "outputs": []
    },
    {
      "metadata": {
        "id": "OwjtWywnbf4G",
        "colab_type": "code",
        "colab": {}
      },
      "cell_type": "code",
      "source": [
        "1+1"
      ],
      "execution_count": 0,
      "outputs": []
    },
    {
      "metadata": {
        "id": "ia6dYg8Vbf4K",
        "colab_type": "code",
        "colab": {}
      },
      "cell_type": "code",
      "source": [
        "4/3"
      ],
      "execution_count": 0,
      "outputs": []
    },
    {
      "metadata": {
        "id": "CYXj092Ebf4N",
        "colab_type": "code",
        "colab": {}
      },
      "cell_type": "code",
      "source": [
        "4//3"
      ],
      "execution_count": 0,
      "outputs": []
    },
    {
      "metadata": {
        "id": "S9hmHlVabf4R",
        "colab_type": "code",
        "colab": {}
      },
      "cell_type": "code",
      "source": [
        "print(type(2**30))\n",
        "print(type(2**100))"
      ],
      "execution_count": 0,
      "outputs": []
    },
    {
      "metadata": {
        "id": "jqfjJu0fbf4V",
        "colab_type": "code",
        "colab": {}
      },
      "cell_type": "code",
      "source": [
        "x = 3\n",
        "print(x * 5)"
      ],
      "execution_count": 0,
      "outputs": []
    },
    {
      "metadata": {
        "id": "WMJBWzRPbf4Y",
        "colab_type": "code",
        "colab": {}
      },
      "cell_type": "code",
      "source": [
        "for x in [1,2,3,4,5]:\n",
        "    print(x)"
      ],
      "execution_count": 0,
      "outputs": []
    },
    {
      "metadata": {
        "id": "A5woXO4Tbf4c",
        "colab_type": "code",
        "colab": {}
      },
      "cell_type": "code",
      "source": [
        "x = 7\n",
        "if x < 10:\n",
        "    print('x is smaller than 10.')\n",
        "else:\n",
        "    print('x is larger than 10.')"
      ],
      "execution_count": 0,
      "outputs": []
    }
  ]
}